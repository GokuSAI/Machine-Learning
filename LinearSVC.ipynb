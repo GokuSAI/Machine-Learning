{
 "cells": [
  {
   "cell_type": "markdown",
   "metadata": {
    "collapsed": true
   },
   "source": [
    "<h1>  Linear Support Vector Classifier </h1>\n",
    "<p> We are using Linear SVC Model to predict the Shark Attacks.The main objective of this model is to learn when sharks will attack and factors that might influence those shark attacks.</p>\n",
    "\n"
   ]
  },
  {
   "cell_type": "markdown",
   "metadata": {},
   "source": [
    "<p>The first step is to import all the libraries like scikit-learn,pandas etc. that are required to build the model</p> "
   ]
  },
  {
   "cell_type": "code",
   "execution_count": 34,
   "metadata": {
    "collapsed": true
   },
   "outputs": [],
   "source": [
    "#import all the required packages\n",
    "import pandas as pd\n",
    "from matplotlib import style\n",
    "from sklearn.model_selection import train_test_split\n",
    "style.use('ggplot')\n",
    "#import support vector machine from scikit-learn library \n",
    "from sklearn import svm\n",
    "import matplotlib.pyplot as plt"
   ]
  },
  {
   "cell_type": "markdown",
   "metadata": {},
   "source": [
    "<p>The next step is to read the CSV file and print the first five rows to ensure that we have read the CSV file correctly. </p>"
   ]
  },
  {
   "cell_type": "code",
   "execution_count": 35,
   "metadata": {},
   "outputs": [
    {
     "name": "stdout",
     "output_type": "stream",
     "text": [
      "   X.2  X.1  X  Id     Date  ID  TurtleExactCountSC turtleexactdiscretizeSC  \\\n",
      "0    1    1  1   4   5/4/09  25                 0.0                     Low   \n",
      "1    2    2  2   5   5/5/09  33                 0.0                     Low   \n",
      "2    3    3  3   7   5/7/09  49                 1.0                     Low   \n",
      "3    4    4  4   8   5/8/09  57                 0.0                     Low   \n",
      "4    5    5  5  11  5/11/09  81                 2.0                     Low   \n",
      "\n",
      "   TurtleExactCountNC  TurtleExactCombined       ...        \\\n",
      "0                 0.0                    0       ...         \n",
      "1                 0.0                    0       ...         \n",
      "2                 0.0                    0       ...         \n",
      "3                 0.0                    0       ...         \n",
      "4                 0.0                    1       ...         \n",
      "\n",
      "  StationPressure_minmax  WindSpeed_minmax Salinity_minmax Turbidity_minmax  \\\n",
      "0               0.578947          0.333333        0.636021         0.032566   \n",
      "1               0.649123          0.202614        0.552312         0.037936   \n",
      "2               0.508772          0.405229        0.496314         0.027615   \n",
      "3               0.508772          0.267974        0.579198         0.020119   \n",
      "4               0.614035          0.385621        0.597837         0.066004   \n",
      "\n",
      "  Dissolved02_minmax WaterTemp_minmax Turtle_minmax Crablandings_minmax  \\\n",
      "0           0.741354         0.576733      0.000000            0.933566   \n",
      "1           0.675088         0.477558      0.000000            0.114510   \n",
      "2           0.703665         0.498185      0.000000            0.925699   \n",
      "3           0.788776         0.575743      0.000000            0.296329   \n",
      "4           0.822323         0.627393      0.004785            0.994755   \n",
      "\n",
      "  turbidity_kmeans_binning turbidty_domain  \n",
      "0                      Low             Low  \n",
      "1                      Low          Medium  \n",
      "2                      Low             Low  \n",
      "3                      Low             Low  \n",
      "4                      Low          Medium  \n",
      "\n",
      "[5 rows x 72 columns]\n"
     ]
    }
   ],
   "source": [
    "#read the csv file using pandas library \n",
    "df= pd.read_csv(\"/Users/saikrishna/Downloads/Shark.csv\", error_bad_lines=False, sep='\\t')\n",
    "#print the head of the dataframe\n",
    "print(df.head())"
   ]
  },
  {
   "cell_type": "markdown",
   "metadata": {},
   "source": [
    "<h3>Exploratory Data Analysis</h3>\n",
    "<p> The next step is to analyze the data sets which is often done with visual methods. This step is mainly useful in realizing the factors that might have an impact on the 'Attack' column.</p>\n",
    "<p>Initially , we are generating a boxplot of salinity vs Attack.</p>"
   ]
  },
  {
   "cell_type": "code",
   "execution_count": 36,
   "metadata": {},
   "outputs": [
    {
     "data": {
      "image/png": "[encoded data removed]",
      "text/plain": [
       "<matplotlib.figure.Figure at 0x115e095c0>"
      ]
     },
     "metadata": {},
     "output_type": "display_data"
    }
   ],
   "source": [
    "#boxplot to identify the relationship between the Attack and Salinity\n",
    "df.boxplot(column='Salinity', by='Attack', rot=90)\n",
    "#display the plot\n",
    "plt.show()"
   ]
  },
  {
   "cell_type": "markdown",
   "metadata": {},
   "source": [
    "<p> We are generating Scatter plot which was plotted WindSpeedMod against  TurbidityMod. </p> "
   ]
  },
  {
   "cell_type": "code",
   "execution_count": 37,
   "metadata": {},
   "outputs": [
    {
     "data": {
      "image/png": "[encoded data removed]",
      "text/plain": [
       "<matplotlib.figure.Figure at 0x11617c668>"
      ]
     },
     "metadata": {},
     "output_type": "display_data"
    }
   ],
   "source": [
    "#Scatter plot \n",
    "df.plot(kind='scatter', x='WindSpeedMod', y='TurbidityMod', rot=70)\n",
    "#Display the plot\n",
    "plt.show()"
   ]
  },
  {
   "cell_type": "markdown",
   "metadata": {},
   "source": [
    "<p> The next boxplot was plotted with Salinity against Attack. </p> "
   ]
  },
  {
   "cell_type": "code",
   "execution_count": 38,
   "metadata": {},
   "outputs": [
    {
     "data": {
      "image/png": "[encoded data removed]",
      "text/plain": [
       "<matplotlib.figure.Figure at 0x115ffea20>"
      ]
     },
     "metadata": {},
     "output_type": "display_data"
    }
   ],
   "source": [
    "#boxplot \n",
    "df.boxplot(column='Salinity', by='Attack', rot=90)\n",
    "#Display the plot\n",
    "plt.show()"
   ]
  },
  {
   "cell_type": "markdown",
   "metadata": {},
   "source": [
    "<p>The next step is to delete the columns that are redundant and do not have much influence on the 'Attack' Column in our dataset. </p>"
   ]
  },
  {
   "cell_type": "code",
   "execution_count": 8,
   "metadata": {},
   "outputs": [
    {
     "name": "stdout",
     "output_type": "stream",
     "text": [
      "(186, 66)\n"
     ]
    }
   ],
   "source": [
    "#dropping the columns that are redundant and not necessary\n",
    "df.drop(['X.2', 'X.1','X','Location','Beach','County'],1, inplace=True,errors='ignore')\n",
    "#print(df.head())\n",
    "#print the shape of data frame to get an idea about the data frame\n",
    "print(df.shape)"
   ]
  },
  {
   "cell_type": "code",
   "execution_count": 31,
   "metadata": {},
   "outputs": [
    {
     "name": "stdout",
     "output_type": "stream",
     "text": [
      "(186, 1)\n",
      "(186, 7)\n"
     ]
    }
   ],
   "source": [
    "df.fillna(0, inplace=True)\n",
    "#since we are predicting whether an attack has happened or not, target column will be the Attack\n",
    "columns_target=['Attack']\n",
    "\n",
    "columns_train=['Precipitation_Value','StationPressure','WindSpeed','Salinity','Turbidity','Temperature','DissovedO2']\n",
    "X=df[columns_train]\n",
    "y=df[columns_target]\n",
    "#printing the shape of y\n",
    "print(y.shape)\n",
    "#printing the shape of X\n",
    "print(X.shape)"
   ]
  },
  {
   "cell_type": "markdown",
   "metadata": {},
   "source": [
    "<p> The Final step is to split the data set and apply the Linear SVC model on our data set. </p>"
   ]
  },
  {
   "cell_type": "code",
   "execution_count": 16,
   "metadata": {},
   "outputs": [
    {
     "name": "stdout",
     "output_type": "stream",
     "text": [
      "LinearSVC(C=1.0, class_weight=None, dual=True, fit_intercept=True,\n",
      "     intercept_scaling=1, loss='squared_hinge', max_iter=1000,\n",
      "     multi_class='ovr', penalty='l2', random_state=None, tol=0.0001,\n",
      "     verbose=0)\n",
      "['No' 'Yes' 'No' 'No' 'No' 'No' 'No' 'No' 'No' 'No' 'No' 'No' 'No' 'No'\n",
      " 'No' 'No' 'No' 'No' 'No' 'No' 'No' 'No' 'No' 'No' 'No' 'No' 'No' 'Yes'\n",
      " 'No' 'No' 'No' 'Yes' 'No' 'No' 'Yes' 'No' 'No' 'No']\n",
      "0.657894736842\n"
     ]
    }
   ],
   "source": [
    "#LINEAR SVC\n",
    "#splitting the data set into training data and testing data with typical ratio of 80 to 20\n",
    "X_train,X_test, y_train, y_test = train_test_split(X, y, test_size=0.20)\n",
    "clf = svm.LinearSVC()\n",
    "#fitting the data to the model\n",
    "#making use of ravel()\n",
    "clf.fit(X_train, y_train.values.ravel())\n",
    "print(clf)\n",
    "#predicting for Attack\n",
    "print(clf.predict(X_test[0:186]))\n",
    "#calculating the accuracy for the prediction\n",
    "print(clf.score(X_test,y_test))"
   ]
  },
  {
   "cell_type": "markdown",
   "metadata": {
    "collapsed": true
   },
   "source": [
    "\n",
    "<h4> Citations : </h4>\n",
    "\n",
    "<p>http://scikit-learn.org/stable/modules/generated/sklearn.svm.LinearSVC.html </p>\n",
    "<p>https://stackoverflow.com</p>\n",
    "<p>https://github.com/AKDDResearch/Shark-Attack</p>\n",
    " \n",
    "Hands-On Machine Learning with Scikit-Learn and TensorFlow."
   ]
  }
 ],
 "metadata": {
  "kernelspec": {
   "display_name": "Python 3",
   "language": "python",
   "name": "python3"
  },
  "language_info": {
   "codemirror_mode": {
    "name": "ipython",
    "version": 3
   },
   "file_extension": ".py",
   "mimetype": "text/x-python",
   "name": "python",
   "nbconvert_exporter": "python",
   "pygments_lexer": "ipython3",
   "version": "3.6.1"
  }
 },
 "nbformat": 4,
 "nbformat_minor": 2
}
