{
 "cells": [
  {
   "cell_type": "markdown",
   "metadata": {
    "collapsed": true
   },
   "source": [
    "<h1>RandomForestClassifier</h1>\n",
    "<p> The main objective of this model is to predict when the sharks will attack and performing exploratory data analysis. We should also determine the factors that might influence the shark attacks</p>\n",
    "\n",
    "<p>We are using RandomForestClassifier to build our model.</p>\n",
    "\n",
    "<p>The first step is to import all the required libraries.</p>"
   ]
  },
  {
   "cell_type": "code",
   "execution_count": 88,
   "metadata": {
    "collapsed": true
   },
   "outputs": [],
   "source": [
    "#import the required libraries\n",
    "import matplotlib.pyplot as plt\n",
    "from matplotlib import style\n",
    "from sklearn.model_selection import train_test_split\n",
    "style.use('ggplot')"
   ]
  },
  {
   "cell_type": "code",
   "execution_count": 89,
   "metadata": {
    "collapsed": true
   },
   "outputs": [],
   "source": [
    "#import RandomForestClassifier from the scikit-learn library\n",
    "from sklearn.ensemble import RandomForestClassifier\n"
   ]
  },
  {
   "cell_type": "markdown",
   "metadata": {},
   "source": [
    "<p> Import the necessary pandas module for reading the csv file and then print the first five rows to make sure that CSV file was read without any errors</p>"
   ]
  },
  {
   "cell_type": "code",
   "execution_count": 90,
   "metadata": {},
   "outputs": [
    {
     "name": "stdout",
     "output_type": "stream",
     "text": [
      "   X.2  X.1  X  Id     Date  ID  TurtleExactCountSC turtleexactdiscretizeSC  \\\n",
      "0    1    1  1   4   5/4/09  25                 0.0                     Low   \n",
      "1    2    2  2   5   5/5/09  33                 0.0                     Low   \n",
      "2    3    3  3   7   5/7/09  49                 1.0                     Low   \n",
      "3    4    4  4   8   5/8/09  57                 0.0                     Low   \n",
      "4    5    5  5  11  5/11/09  81                 2.0                     Low   \n",
      "\n",
      "   TurtleExactCountNC  TurtleExactCombined       ...        \\\n",
      "0                 0.0                    0       ...         \n",
      "1                 0.0                    0       ...         \n",
      "2                 0.0                    0       ...         \n",
      "3                 0.0                    0       ...         \n",
      "4                 0.0                    1       ...         \n",
      "\n",
      "  StationPressure_minmax  WindSpeed_minmax Salinity_minmax Turbidity_minmax  \\\n",
      "0               0.578947          0.333333        0.636021         0.032566   \n",
      "1               0.649123          0.202614        0.552312         0.037936   \n",
      "2               0.508772          0.405229        0.496314         0.027615   \n",
      "3               0.508772          0.267974        0.579198         0.020119   \n",
      "4               0.614035          0.385621        0.597837         0.066004   \n",
      "\n",
      "  Dissolved02_minmax WaterTemp_minmax Turtle_minmax Crablandings_minmax  \\\n",
      "0           0.741354         0.576733      0.000000            0.933566   \n",
      "1           0.675088         0.477558      0.000000            0.114510   \n",
      "2           0.703665         0.498185      0.000000            0.925699   \n",
      "3           0.788776         0.575743      0.000000            0.296329   \n",
      "4           0.822323         0.627393      0.004785            0.994755   \n",
      "\n",
      "  turbidity_kmeans_binning turbidty_domain  \n",
      "0                      Low             Low  \n",
      "1                      Low          Medium  \n",
      "2                      Low             Low  \n",
      "3                      Low             Low  \n",
      "4                      Low          Medium  \n",
      "\n",
      "[5 rows x 72 columns]\n"
     ]
    }
   ],
   "source": [
    "#import pandas library \n",
    "#read the CSV file using Pandas Library\n",
    "import pandas as pd\n",
    "df= pd.read_csv(\"/Users/saikrishna/Downloads/Shark.csv\", error_bad_lines=False, sep='\\t')\n",
    "#print the head of the dataframe.\n",
    "print(df.head())"
   ]
  },
  {
   "cell_type": "markdown",
   "metadata": {},
   "source": [
    "<h3>Exploratory Data Analysis</h3>"
   ]
  },
  {
   "cell_type": "code",
   "execution_count": 91,
   "metadata": {},
   "outputs": [
    {
     "name": "stdout",
     "output_type": "stream",
     "text": [
      "     X.2  X.1    X    Id     Date   ID  TurtleExactCountSC  \\\n",
      "0      1    1    1     4   5/4/09   25                 0.0   \n",
      "1      2    2    2     5   5/5/09   33                 0.0   \n",
      "2      3    3    3     7   5/7/09   49                 1.0   \n",
      "3      4    4    4     8   5/8/09   57                 0.0   \n",
      "4      5    5    5    11  5/11/09   81                 2.0   \n",
      "5      6    6    6    14  5/14/09  105                15.0   \n",
      "6      7    7    7    16  5/16/09  121                 9.0   \n",
      "7      8    8    8    18  5/18/09  137                 7.0   \n",
      "8      9    9    9    27  5/27/09  209                23.0   \n",
      "9     10   10   10    29  5/29/09  225                48.0   \n",
      "10    11   11   11    34   6/3/09  265                48.0   \n",
      "11    12   12   12    35   6/4/09  273                55.0   \n",
      "12    13   13   13    38   6/7/09  297                45.0   \n",
      "13    14   14   14    42  6/11/09  329                54.0   \n",
      "14    15   15   15    46  6/15/09  367                62.0   \n",
      "15    16   16   16    47  6/16/09  375                66.0   \n",
      "16    17   17   17    48  6/17/09  383                66.0   \n",
      "17    18   18   18    56  6/25/09  451                55.0   \n",
      "18    19   19   19    59  6/28/09  476                78.0   \n",
      "19    20   20   20    61  6/30/09  493                61.0   \n",
      "20    21   21   21    62   7/1/09  501                60.0   \n",
      "21    22   22   22    65   7/4/09  526                33.0   \n",
      "22    23   23   23    67   7/6/09  542                63.0   \n",
      "23    24   24   24    73  7/12/09  590                38.0   \n",
      "24    25   25   25    78  7/17/09  631                23.0   \n",
      "25    26   26   26    83  7/22/09  668                 NaN   \n",
      "26    27   27   27    87  7/26/09  696                36.0   \n",
      "27    28   28   28    94   8/2/09  745                 8.0   \n",
      "28    29   29   29    98   8/6/09  773                 3.0   \n",
      "29    30   30   30   106  8/14/09  829                 1.0   \n",
      "..   ...  ...  ...   ...      ...  ...                 ...   \n",
      "156  157  157  157   970  6/14/15  365                 NaN   \n",
      "157  158  158  158   979  6/23/15  440               195.0   \n",
      "158  159  159  159   980  6/24/15  449                 NaN   \n",
      "159  160  160  160   981  6/25/15  458                 NaN   \n",
      "160  161  161  161   982  6/26/15  466               159.0   \n",
      "161  162  162  162   983  6/27/15  474                 NaN   \n",
      "162  163  163  163   986  6/30/15  499               135.0   \n",
      "163  164  164  164   987   7/1/15  507                 NaN   \n",
      "164  165  165  165   990   7/4/15  532                 NaN   \n",
      "165  166  166  166  1012  7/26/15  702                24.0   \n",
      "166  167  167  167  1037  8/20/15  878                 1.0   \n",
      "167  168  168  168  1051   9/3/15  978                 0.0   \n",
      "168  169  169  169  1116   6/7/16  304               122.0   \n",
      "169  170  170  170  1120  6/11/16  337                 NaN   \n",
      "170  171  171  171  1121  6/11/16  336                 NaN   \n",
      "171  172  172  172  1124  6/13/16  354                 NaN   \n",
      "172  173  173  173  1125  6/13/16  353               135.0   \n",
      "173  174  174  174  1133  6/20/16  416                 NaN   \n",
      "174  175  175  175  1134  6/20/16  414                 NaN   \n",
      "175  176  176  176  1135  6/21/16  424               164.0   \n",
      "176  177  177  177  1136  6/21/16  425               164.0   \n",
      "177  178  178  178  1138  6/23/16  441               125.0   \n",
      "178  179  179  179  1141  6/25/16  459                 NaN   \n",
      "179  180  180  180  1143  6/27/16  475               209.0   \n",
      "180  181  181  181  1145  6/29/16  491               139.0   \n",
      "181  182  182  182  1149   7/1/16  509                 NaN   \n",
      "182  183  183  183  1163  7/15/16  622               105.0   \n",
      "183  184  184  184  1164  7/15/16  621               105.0   \n",
      "184  185  185  185  1165  7/16/16  630                90.0   \n",
      "185  186  186  186  1167  7/18/16  646                71.0   \n",
      "\n",
      "    turtleexactdiscretizeSC  TurtleExactCountNC  TurtleExactCombined  \\\n",
      "0                       Low                 0.0                    0   \n",
      "1                       Low                 0.0                    0   \n",
      "2                       Low                 0.0                    0   \n",
      "3                       Low                 0.0                    0   \n",
      "4                       Low                 0.0                    1   \n",
      "5                       Low                 1.0                    8   \n",
      "6                       Low                 3.0                    6   \n",
      "7                       Low                 0.0                    3   \n",
      "8                       Low                 3.0                   13   \n",
      "9                       Low                14.0                   31   \n",
      "10                      Low                 7.0                   27   \n",
      "11                      Low                16.0                   35   \n",
      "12                      Low                 9.0                   27   \n",
      "13                      Low                16.0                   35   \n",
      "14                      Low                12.0                   37   \n",
      "15                      Low                18.0                   42   \n",
      "16                      Low                21.0                   43   \n",
      "17                      Low                36.0                   46   \n",
      "18                   Medium                18.0                   48   \n",
      "19                      Low                26.0                   44   \n",
      "20                      Low                28.0                   44   \n",
      "21                      Low                16.0                   25   \n",
      "22                      Low                 7.0                   35   \n",
      "23                      Low                15.0                   27   \n",
      "24                      Low                15.0                   19   \n",
      "25                      NaN                22.0                   22   \n",
      "26                      Low                24.0                   30   \n",
      "27                      Low                10.0                    9   \n",
      "28                      Low                 2.0                    3   \n",
      "29                      Low                 0.0                    1   \n",
      "..                      ...                 ...                  ...   \n",
      "156                     NaN                51.0                   51   \n",
      "157                    High                 NaN                  195   \n",
      "158                     NaN                54.0                   54   \n",
      "159                     NaN                48.0                   48   \n",
      "160                    High                 NaN                  159   \n",
      "161                     NaN                39.0                   39   \n",
      "162                  Medium                 NaN                  135   \n",
      "163                     NaN                37.0                   37   \n",
      "164                     NaN                44.0                   44   \n",
      "165                     Low                 NaN                   24   \n",
      "166                     Low                 NaN                    1   \n",
      "167                     Low                 NaN                    0   \n",
      "168                  Medium                 NaN                  122   \n",
      "169                     NaN                34.0                   34   \n",
      "170                     NaN                34.0                   34   \n",
      "171                     NaN                34.0                   34   \n",
      "172                  Medium                 NaN                  135   \n",
      "173                     NaN                54.0                   54   \n",
      "174                     NaN                54.0                   54   \n",
      "175                    High                 NaN                  164   \n",
      "176                    High                 NaN                  164   \n",
      "177                  Medium                 NaN                  125   \n",
      "178                     NaN                44.0                   44   \n",
      "179               Very High                 NaN                  209   \n",
      "180                    High                 NaN                  139   \n",
      "181                     NaN                51.0                   51   \n",
      "182                  Medium                 NaN                  105   \n",
      "183                  Medium                 NaN                  105   \n",
      "184                  Medium                 NaN                   90   \n",
      "185                  Medium                 NaN                   71   \n",
      "\n",
      "          ...       StationPressure_minmax  WindSpeed_minmax Salinity_minmax  \\\n",
      "0         ...                     0.578947          0.333333        0.636021   \n",
      "1         ...                     0.649123          0.202614        0.552312   \n",
      "2         ...                     0.508772          0.405229        0.496314   \n",
      "3         ...                     0.508772          0.267974        0.579198   \n",
      "4         ...                     0.614035          0.385621        0.597837   \n",
      "5         ...                     0.859649          0.228758        0.593136   \n",
      "6         ...                     0.771930          0.196078        0.595940   \n",
      "7         ...                     0.789474          0.882353        0.431409   \n",
      "8         ...                     0.385965          0.098039        0.637258   \n",
      "9         ...                     0.280702          0.346405        0.638330   \n",
      "10        ...                     0.649123          0.143791        0.586456   \n",
      "11        ...                     0.210526          0.372549        0.577466   \n",
      "12        ...                     0.526316          0.196078        0.483449   \n",
      "13        ...                     0.368421          0.189542        0.598826   \n",
      "14        ...                     0.491228          0.000000        0.487572   \n",
      "15        ...                     0.508772          0.183007        0.477676   \n",
      "16        ...                     0.614035          0.189542        0.471243   \n",
      "17        ...                     0.350877          0.209150        0.601218   \n",
      "18        ...                     0.140351          0.346405        0.690452   \n",
      "19        ...                     0.000000          0.411765        0.684762   \n",
      "20        ...                     0.175439          0.411765        0.701751   \n",
      "21        ...                     0.596491          0.300654        0.782326   \n",
      "22        ...                     0.280702          0.385621        0.815232   \n",
      "23        ...                     0.789474          0.209150        0.788676   \n",
      "24        ...                     0.421053          0.542484        0.810750   \n",
      "25        ...                     0.807018          0.359477        0.863813   \n",
      "26        ...                     0.614035          0.339869        0.930857   \n",
      "27        ...                     0.649123          0.359477        0.950898   \n",
      "28        ...                     0.543860          0.287582        0.848880   \n",
      "29        ...                     0.736842          0.215686        0.767151   \n",
      "..        ...                          ...               ...             ...   \n",
      "156       ...                     0.684211          0.143791        0.610620   \n",
      "157       ...                     0.614035          0.490196        0.488314   \n",
      "158       ...                     0.684211          0.549020        0.569879   \n",
      "159       ...                     0.736842          0.594771        0.546374   \n",
      "160       ...                     0.526316          0.496732        0.582250   \n",
      "161       ...                     0.473684          1.000000        0.617135   \n",
      "162       ...                     0.684211          0.261438        0.502829   \n",
      "163       ...                     0.526316          0.803922        0.591404   \n",
      "164       ...                     0.578947          0.856209        0.385967   \n",
      "165       ...                     0.578947          0.352941        0.867601   \n",
      "166       ...                     0.473684          0.209150        0.831149   \n",
      "167       ...                     0.684211          0.490196        0.830407   \n",
      "168       ...                     0.017544          0.411765        0.596270   \n",
      "169       ...                     0.789474          0.699346        0.513798   \n",
      "170       ...                     0.789474          0.699346        0.513798   \n",
      "171       ...                     0.421053          0.385621        0.462913   \n",
      "172       ...                     0.421053          0.431373        0.462913   \n",
      "173       ...                     1.000000          0.450980        0.586786   \n",
      "174       ...                     1.000000          0.450980        0.586786   \n",
      "175       ...                     0.754386          0.960784        0.635361   \n",
      "176       ...                     0.754386          0.960784        0.635361   \n",
      "177       ...                     0.631579          0.849673        0.697215   \n",
      "178       ...                     0.736842          0.359477        0.754945   \n",
      "179       ...                     0.701754          0.359477        0.689710   \n",
      "180       ...                     0.491228          0.248366        0.722699   \n",
      "181       ...                     0.631579          0.686275        0.731028   \n",
      "182       ...                     0.701754          0.450980        0.799562   \n",
      "183       ...                     0.701754          0.450980        0.799562   \n",
      "184       ...                     0.701754          0.450980        0.799562   \n",
      "185       ...                     0.701754          0.450980        0.799562   \n",
      "\n",
      "    Turbidity_minmax Dissolved02_minmax WaterTemp_minmax Turtle_minmax  \\\n",
      "0           0.032566           0.741354         0.576733      0.000000   \n",
      "1           0.037936           0.675088         0.477558      0.000000   \n",
      "2           0.027615           0.703665         0.498185      0.000000   \n",
      "3           0.020119           0.788776         0.575743      0.000000   \n",
      "4           0.066004           0.822323         0.627393      0.004785   \n",
      "5           0.010774           0.695589         0.304455      0.038278   \n",
      "6           0.011960           0.777594         0.580858      0.028708   \n",
      "7           0.050384           0.693104         0.000000      0.014354   \n",
      "8           0.009589           0.509215         0.590594      0.062201   \n",
      "9           0.020567           0.375854         0.650990      0.148325   \n",
      "10          0.065272           0.042659         0.801815      0.129187   \n",
      "11          0.004603           0.000000         0.745875      0.167464   \n",
      "12          0.054777           0.037482         0.696700      0.129187   \n",
      "13          0.034170           0.698902         0.819142      0.167464   \n",
      "14          0.013180           0.745703         0.842904      0.177033   \n",
      "15          0.014052           0.676538         0.752970      0.200957   \n",
      "16          0.013529           0.741147         0.679868      0.205742   \n",
      "17          0.025000           0.738869         0.809736      0.220096   \n",
      "18          0.016527           0.572789         0.885314      0.229665   \n",
      "19          0.018305           0.616277         0.933828      0.210526   \n",
      "20          0.020223           0.627045         0.887624      0.210526   \n",
      "21          0.022420           0.633672         0.851320      0.119617   \n",
      "22          0.025035           0.650445         0.739604      0.167464   \n",
      "23          0.017190           0.643197         0.717657      0.129187   \n",
      "24          0.024802           0.603508         0.855124      0.090909   \n",
      "25          0.014644           0.647108         0.870512      0.105263   \n",
      "26          0.038529           0.628287         0.846040      0.143541   \n",
      "27          0.032008           0.600331         0.847360      0.043062   \n",
      "28          0.026953           0.650859         0.886469      0.014354   \n",
      "29          0.014540           0.501967         0.734158      0.004785   \n",
      "..               ...                ...              ...           ...   \n",
      "156         0.349131           0.022158         0.905281      0.244019   \n",
      "157         0.137936           0.566991         0.897855      0.933014   \n",
      "158         0.517949           0.587285         0.885479      0.258373   \n",
      "159         0.167573           0.629530         0.879538      0.229665   \n",
      "160         0.094142           0.632222         0.894059      0.760766   \n",
      "161         0.101499           0.582315         0.852970      0.186603   \n",
      "162         0.079973           0.700145         0.839934      0.645933   \n",
      "163         0.064400           0.690205         0.782178      0.177033   \n",
      "164         0.059414           0.717954         0.739769      0.210526   \n",
      "165         0.015865           0.604887         0.824257      0.114833   \n",
      "166         0.023919           0.600124         0.828383      0.004785   \n",
      "167         0.015272           0.572168         0.723267      0.000000   \n",
      "168         0.014854           0.675916         0.701320      0.583732   \n",
      "169         0.120223           0.736591         0.732178      0.162679   \n",
      "170         0.120223           0.736591         0.732178      0.162679   \n",
      "171         0.041248           0.765169         0.738449      0.162679   \n",
      "172         0.041248           0.765169         0.738449      0.645933   \n",
      "173         0.034623           0.793539         0.681353      0.258373   \n",
      "174         0.034623           0.793539         0.681353      0.258373   \n",
      "175         0.308194           0.664941         0.646205      0.784689   \n",
      "176         0.308194           0.664941         0.646205      0.784689   \n",
      "177         0.241841           0.615241         0.759406      0.598086   \n",
      "178         0.034623           0.566784         0.798020      0.210526   \n",
      "179         0.033996           0.628080         0.783498      1.000000   \n",
      "180         0.045886           0.535515         0.784983      0.665072   \n",
      "181         0.044805           0.573618         0.782838      0.244019   \n",
      "182         0.051778           0.588113         0.807921      0.502392   \n",
      "183         0.051778           0.588113         0.807921      0.502392   \n",
      "184         0.051778           0.588113         0.807921      0.430622   \n",
      "185         0.051778           0.588113         0.807921      0.339713   \n",
      "\n",
      "    Crablandings_minmax turbidity_kmeans_binning turbidty_domain  \n",
      "0              0.933566                      Low             Low  \n",
      "1              0.114510                      Low          Medium  \n",
      "2              0.925699                      Low             Low  \n",
      "3              0.296329                      Low             Low  \n",
      "4              0.994755                      Low          Medium  \n",
      "5              0.047203                      Low             Low  \n",
      "6              0.119755                      Low             Low  \n",
      "7              0.912587                      Low          Medium  \n",
      "8              0.382867                      Low             Low  \n",
      "9              0.277972                      Low             Low  \n",
      "10             0.372378                      Low          Medium  \n",
      "11             0.166084                      Low             Low  \n",
      "12             0.813811                      Low          Medium  \n",
      "13             0.541958                      Low             Low  \n",
      "14             0.742133                      Low             Low  \n",
      "15             0.419580                      Low             Low  \n",
      "16             0.231643                      Low             Low  \n",
      "17             0.301573                      Low             Low  \n",
      "18             0.638986                      Low             Low  \n",
      "19             0.274476                      Low             Low  \n",
      "20             0.194930                      Low             Low  \n",
      "21             0.025350                      Low             Low  \n",
      "22             0.960664                      Low             Low  \n",
      "23             0.059441                      Low             Low  \n",
      "24             0.026224                      Low             Low  \n",
      "25             0.065559                      Low             Low  \n",
      "26             0.458916                      Low          Medium  \n",
      "27             0.328671                      Low             Low  \n",
      "28             0.288462                      Low             Low  \n",
      "29             0.479895                      Low             Low  \n",
      "..                  ...                      ...             ...  \n",
      "156            0.902972                     High            High  \n",
      "157            0.194056                   Medium            High  \n",
      "158            0.386364                     High            High  \n",
      "159            0.351399                   Medium            High  \n",
      "160            0.072552                   Medium          Medium  \n",
      "161            0.035839                   Medium          Medium  \n",
      "162            0.242133                   Medium          Medium  \n",
      "163            0.198427                      Low          Medium  \n",
      "164            0.926573                      Low          Medium  \n",
      "165            0.000000                      Low             Low  \n",
      "166            0.676573                      Low             Low  \n",
      "167            0.645979                      Low             Low  \n",
      "168            0.859266                      Low             Low  \n",
      "169            0.825175                   Medium            High  \n",
      "170            0.825175                   Medium            High  \n",
      "171            0.899476                      Low          Medium  \n",
      "172            0.899476                      Low          Medium  \n",
      "173            0.900350                      Low             Low  \n",
      "174            0.900350                      Low             Low  \n",
      "175            0.868881                     High            High  \n",
      "176            0.868881                     High            High  \n",
      "177            0.854895                   Medium            High  \n",
      "178            0.838287                      Low             Low  \n",
      "179            0.903846                      Low             Low  \n",
      "180            0.875000                      Low          Medium  \n",
      "181            0.870629                      Low          Medium  \n",
      "182            0.882867                      Low          Medium  \n",
      "183            0.882867                      Low          Medium  \n",
      "184            0.853147                      Low          Medium  \n",
      "185            0.911713                      Low          Medium  \n",
      "\n",
      "[186 rows x 72 columns]\n",
      "(186, 72)\n"
     ]
    }
   ],
   "source": [
    "#check for duplicates\n",
    "df_no_dups = df.drop_duplicates()\n",
    "print(df_no_dups)\n",
    "print(df_no_dups.shape)"
   ]
  },
  {
   "cell_type": "markdown",
   "metadata": {},
   "source": [
    "<p> Box Plot was generated to find out the relation-ship between Temperature and Attack </p>"
   ]
  },
  {
   "cell_type": "code",
   "execution_count": 92,
   "metadata": {},
   "outputs": [
    {
     "data": {
      "image/png": "[encoded data removed]",
      "text/plain": [
       "<matplotlib.figure.Figure at 0x11ed81748>"
      ]
     },
     "metadata": {},
     "output_type": "display_data"
    }
   ],
   "source": [
    "#boxplot \n",
    "df.boxplot(column='Temperature', by='Attack', rot=90)\n",
    "#Display the plot\n",
    "plt.show()"
   ]
  },
  {
   "cell_type": "markdown",
   "metadata": {},
   "source": [
    "<p> A Scatter Plot was generated between the Dissolved Oxygen and Precipitation_Value</p>"
   ]
  },
  {
   "cell_type": "code",
   "execution_count": 93,
   "metadata": {},
   "outputs": [
    {
     "data": {
      "image/png": "[encoded data removed]",
      "text/plain": [
       "<matplotlib.figure.Figure at 0x11b9c0908>"
      ]
     },
     "metadata": {},
     "output_type": "display_data"
    }
   ],
   "source": [
    "#Scatter plot \n",
    "df.plot(kind='scatter', x='Precipitation_Value', y='DissovedO2', rot=70)\n",
    "#Display the plot\n",
    "plt.show()"
   ]
  },
  {
   "cell_type": "markdown",
   "metadata": {},
   "source": [
    "<p>The Next step is to find the missing values and replace all the missing values with mean of the column.</p>\n",
    "\n",
    "<p>The same process is repeated for the next columns also. </p>"
   ]
  },
  {
   "cell_type": "code",
   "execution_count": 94,
   "metadata": {},
   "outputs": [
    {
     "name": "stdout",
     "output_type": "stream",
     "text": [
      "38.295837333923075\n"
     ]
    }
   ],
   "source": [
    "mean1 = df.Turbidity.mean()\n",
    "print(mean1)\n",
    "# Replace all the missing values in the DissovedO2 column with the mean\n",
    "df['Turbidity'] = df.Turbidity.fillna(mean1)\n"
   ]
  },
  {
   "cell_type": "code",
   "execution_count": 95,
   "metadata": {},
   "outputs": [
    {
     "name": "stdout",
     "output_type": "stream",
     "text": [
      "67.67899683343403\n"
     ]
    }
   ],
   "source": [
    "mean1 = df.DissovedO2.mean()\n",
    "print(mean1)\n",
    "# Replace all the missing values in the DissovedO2 column with the mean\n",
    "df['DissovedO2'] = df.DissovedO2.fillna(mean1)"
   ]
  },
  {
   "cell_type": "code",
   "execution_count": 96,
   "metadata": {},
   "outputs": [
    {
     "name": "stdout",
     "output_type": "stream",
     "text": [
      "28.167617702307684\n"
     ]
    }
   ],
   "source": [
    "mean1 = df.Temperature.mean()\n",
    "print(mean1)\n",
    "# Replace all the missing values in the Temperature column with the mean\n",
    "df['Temperature'] = df.Temperature.fillna(mean1)"
   ]
  },
  {
   "cell_type": "code",
   "execution_count": 97,
   "metadata": {},
   "outputs": [
    {
     "name": "stdout",
     "output_type": "stream",
     "text": [
      "6.551648351648349\n"
     ]
    }
   ],
   "source": [
    "mean1 = df.WindSpeed.mean()\n",
    "print(mean1)\n",
    "# Replace all the missing values in the windspeedcolumn with the mean\n",
    "df['WindSpeed'] = df.WindSpeed.fillna(mean1)"
   ]
  },
  {
   "cell_type": "code",
   "execution_count": 98,
   "metadata": {},
   "outputs": [
    {
     "name": "stdout",
     "output_type": "stream",
     "text": [
      "26.199711008340675\n"
     ]
    }
   ],
   "source": [
    "mean1 = df.Salinity.mean()\n",
    "print(mean1)\n",
    "# Replace all the missing values in the Salinity column with the mean\n",
    "df['Salinity'] = df.Salinity.fillna(mean1)"
   ]
  },
  {
   "cell_type": "code",
   "execution_count": 99,
   "metadata": {
    "collapsed": true
   },
   "outputs": [],
   "source": [
    "df.fillna(0, inplace=True)"
   ]
  },
  {
   "cell_type": "markdown",
   "metadata": {},
   "source": [
    "<p> The next step is to seperate the data and then finding out the shape  to make sure that no errors occured while seperating the data.</p>"
   ]
  },
  {
   "cell_type": "code",
   "execution_count": 100,
   "metadata": {},
   "outputs": [
    {
     "name": "stdout",
     "output_type": "stream",
     "text": [
      "(186, 1)\n",
      "(186, 7)\n"
     ]
    }
   ],
   "source": [
    "columns_target=['Attack']\n",
    "\n",
    "columns_train=['Precipitation_Value','StationPressure','WindSpeed','Salinity','Turbidity','Temperature','DissovedO2']\n",
    "X=df[columns_train]\n",
    "y=df[columns_target]\n",
    "print(y.shape)\n",
    "print(X.shape)\n"
   ]
  },
  {
   "cell_type": "markdown",
   "metadata": {},
   "source": [
    "<p>The next step is to split the data into training set and testing set.</p>\n",
    "<p>The final step is to fit the training data onto the model and making the predictions </p>"
   ]
  },
  {
   "cell_type": "code",
   "execution_count": 101,
   "metadata": {},
   "outputs": [
    {
     "name": "stdout",
     "output_type": "stream",
     "text": [
      "RandomForestClassifier(bootstrap=True, class_weight=None, criterion='gini',\n",
      "            max_depth=None, max_features='auto', max_leaf_nodes=None,\n",
      "            min_impurity_split=1e-07, min_samples_leaf=1,\n",
      "            min_samples_split=2, min_weight_fraction_leaf=0.0,\n",
      "            n_estimators=10, n_jobs=1, oob_score=False, random_state=None,\n",
      "            verbose=0, warm_start=False)\n",
      "['No' 'No' 'No' 'No' 'No' 'No' 'No' 'No' 'No' 'Yes' 'Yes' 'No' 'No' 'No'\n",
      " 'Yes' 'No' 'Yes' 'No' 'No' 'Yes' 'Yes' 'No' 'No' 'No' 'No' 'No' 'No' 'No'\n",
      " 'Yes' 'No' 'Yes' 'No' 'No' 'No' 'No' 'No' 'No' 'Yes']\n",
      "0.842105263158\n"
     ]
    }
   ],
   "source": [
    "#RandomForestClassifier\n",
    "#Splitting the data set into training set and testing set\n",
    "X_train,X_test, y_train, y_test = train_test_split(X, y, test_size=0.20)\n",
    "clf= RandomForestClassifier()\n",
    "#fitting the data to the model\n",
    "clf.fit(X_train,y_train.values.ravel())\n",
    "print(clf)\n",
    "#make prediction and check the accuracy\n",
    "print(clf.predict(X_test))\n",
    "print(clf.score(X_test,y_test))"
   ]
  },
  {
   "cell_type": "markdown",
   "metadata": {},
   "source": [
    "<h4> Citations : </h4>\n",
    "\n",
    "\n",
    "<p> http://scikit-learn.org/stable/modules/generated/sklearn.ensemble.RandomForestClassifier.html</p>    \n",
    "<p>https://stackoverflow.com</p>\n",
    "<p>https://github.com/AKDDResearch/Shark-Attack</p>\n",
    " \n",
    "Hands-On Machine Learning with Scikit-Learn and TensorFlow."
   ]
  }
 ],
 "metadata": {
  "kernelspec": {
   "display_name": "Python 3",
   "language": "python",
   "name": "python3"
  },
  "language_info": {
   "codemirror_mode": {
    "name": "ipython",
    "version": 3
   },
   "file_extension": ".py",
   "mimetype": "text/x-python",
   "name": "python",
   "nbconvert_exporter": "python",
   "pygments_lexer": "ipython3",
   "version": "3.6.1"
  }
 },
 "nbformat": 4,
 "nbformat_minor": 2
}
