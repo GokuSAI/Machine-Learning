{
 "cells": [
  {
   "cell_type": "markdown",
   "metadata": {},
   "source": [
    "<p>Simple regression model<br>\n",
    "Many references including: </p> \n",
    "<p>http://mariofilho.com/create-simple-machine-learning-model-predict-time-series/</p>"
   ]
  },
  {
   "cell_type": "code",
   "execution_count": null,
   "metadata": {
    "collapsed": true
   },
   "outputs": [],
   "source": [
    "# See link above for more info!\n",
    "# This is a very simple regression model for XC\n",
    "from sklearn.linear_model import LinearRegression\n",
    "from sklearn.metrics import mean_absolute_error\n",
    "import numpy as np\n",
    "import pandas as pd\n",
    "\n",
    "\n",
    "#MAPE calculation function - create here\n",
    "def mape(y_pred,y_true):\n",
    "\n",
    "    return np.mean(np.abs((y_true - y_pred) / y_true)) * 100\n",
    "\n",
    "\n",
    "input_id=int(input(\"ENTER the Runner ID :\"))\n",
    "#Loading the data\n",
    "\n",
    "data = pd.read_csv('Downloads/final_boys_modeling.csv',header=0,index_col=0, low_memory=False)\n",
    "temp_data=data[data['RunnerID']==input_id]\n",
    "df1 = pd.DataFrame(temp_data)\n",
    "df2=df1.filter(items=['DATE', 'time_sec'])\n",
    "df2['DATE'] =pd.to_datetime(df2.DATE)\n",
    "\n",
    "#print(df2.sort_values(by='DATE'))\n",
    "df3=df2.sort_values(by='DATE')\n",
    "data = df3[['DATE','time_sec']]\n",
    "#d2=data.drop(data.columns[[2]], axis=1)\n",
    "print(data)\n",
    "\n",
    "\n",
    "\n",
    "\n",
    "\n",
    "x_data = []\n",
    "y_data = []\n",
    "\n",
    "# Creates a feature matrix with values from previous 2 races\n",
    "for d in range(2,data.shape[0]):\n",
    "    \n",
    "    x = data.iloc[d-2:d].values.ravel()\n",
    "    y = data.iloc[d].values[0]\n",
    "\n",
    "    x_data.append(x)\n",
    "    y_data.append(y)\n",
    "\n",
    "\n",
    "x_data = np.array(x_data)\n",
    "y_data = np.array(y_data)\n",
    "x_data\n",
    "\n",
    "\n",
    "\n",
    "\n"
   ]
  },
  {
   "cell_type": "code",
   "execution_count": 4,
   "metadata": {
    "collapsed": true
   },
   "outputs": [],
   "source": [
    "import nbformat"
   ]
  },
  {
   "cell_type": "code",
   "execution_count": 22,
   "metadata": {},
   "outputs": [
    {
     "data": {
      "text/plain": [
       "array([ 1230.  ,  1146.7 ,  1090.  ,  1055.  ,  1122.  ,  1571.  ,\n",
       "        1182.6 ,  1200.  ,  1307.  ,  1081.3 ,  1280.59,  1318.8 ,\n",
       "        1118.8 ,  1098.  ])"
      ]
     },
     "execution_count": 22,
     "metadata": {},
     "output_type": "execute_result"
    }
   ],
   "source": [
    "y_data"
   ]
  },
  {
   "cell_type": "code",
   "execution_count": 23,
   "metadata": {},
   "outputs": [
    {
     "name": "stdout",
     "output_type": "stream",
     "text": [
      "\n",
      "Mean Absolute Percentage Error\n",
      "MAPE Linear Regression 19.2235713771\n",
      "MAPE Last Value Benchmark 12.0545257488\n",
      "MAPE Moving Average Benchmark 12.324679839\n",
      "\n",
      "Mean Absolute Error\n",
      "MAE Linear Regression 233.561724869\n",
      "MAE Last Value Benchmark 150.375\n",
      "MAE Moving Average Benchmark 154.024166667\n"
     ]
    }
   ],
   "source": [
    "#Lists to store the predictions of the models\n",
    "y_pred = []\n",
    "y_pred_last = []\n",
    "y_pred_ma = []\n",
    "y_true = []\n",
    "\n",
    "\n",
    "\n",
    "#Iterate over the time series creating a new model each month\n",
    "end = y_data.shape[0]\n",
    "#altered range from 30 to 2 here\n",
    "for i in range(2,end):\n",
    "\n",
    "    x_train = x_data[:i,:]\n",
    "    y_train = y_data[:i]\n",
    "    \n",
    "    x_test = x_data[i,:]\n",
    "    y_test = y_data[i]\n",
    "\n",
    "\n",
    "    model = LinearRegression(normalize=True)\n",
    "    model.fit(x_train,y_train)\n",
    "\n",
    "    y_pred.append(model.predict(x_test.reshape(1, -1))[0])\n",
    "    y_pred_last.append(x_test[-1])\n",
    "    y_pred_ma.append(x_test.mean())\n",
    "    y_true.append(y_test)\n",
    "\n",
    "\n",
    "#Transforms the lists into numpy arrays\n",
    "y_pred = np.array(y_pred)\n",
    "y_pred_last = np.array(y_pred_last)\n",
    "y_pred_ma = np.array(y_pred_ma)\n",
    "y_true = np.array(y_true)\n",
    "\n",
    "\n",
    "#Print errors\n",
    "print ('\\nMean Absolute Percentage Error')\n",
    "print ('MAPE Linear Regression', mape(y_pred,y_true))\n",
    "print ('MAPE Last Value Benchmark', mape(y_pred_last,y_true))\n",
    "print ('MAPE Moving Average Benchmark', mape(y_pred_ma,y_true))\n",
    "\n",
    "\n",
    "print ('\\nMean Absolute Error')\n",
    "print ('MAE Linear Regression', mean_absolute_error(y_pred,y_true))\n",
    "print ('MAE Last Value Benchmark', mean_absolute_error(y_pred_last,y_true))\n",
    "print ('MAE Moving Average Benchmark', mean_absolute_error(y_pred_ma,y_true))\n",
    "\n",
    "\n",
    "\n",
    "# OPCIONAL - \n",
    "#from matplotlib import pyplot as plt\n",
    "#plt.title('Runner Times for XC')\n",
    "#plt.ylabel('Time in Sec')\n",
    "#plt.xlabel(u'Periods (Meets)')\n",
    "#reg_val, = plt.plot(y_pred,color='b',label=u'Linear Regression')\n",
    "#true_val, = plt.plot(y_true,color='g', label='True Values')\n",
    "#plt.xlim([0,85])\n",
    "#plt.legend(handles=[true_val,reg_val])\n",
    "#plt.show()"
   ]
  },
  {
   "cell_type": "code",
   "execution_count": null,
   "metadata": {
    "collapsed": true
   },
   "outputs": [],
   "source": []
  }
 ],
 "metadata": {
  "kernelspec": {
   "display_name": "Python 3",
   "language": "python",
   "name": "python3"
  },
  "language_info": {
   "codemirror_mode": {
    "name": "ipython",
    "version": 3
   },
   "file_extension": ".py",
   "mimetype": "text/x-python",
   "name": "python",
   "nbconvert_exporter": "python",
   "pygments_lexer": "ipython3",
   "version": "3.6.1"
  }
 },
 "nbformat": 4,
 "nbformat_minor": 2
}
