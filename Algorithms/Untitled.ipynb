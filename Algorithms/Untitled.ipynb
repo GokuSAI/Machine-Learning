{
 "cells": [
  {
   "cell_type": "code",
   "execution_count": 337,
   "metadata": {},
   "outputs": [],
   "source": [
    "from sklearn import linear_model\n",
    "import pandas as pd\n",
    "import numpy as np\n",
    "import sklearn\n",
    "from sklearn.tree import DecisionTreeRegressor\n",
    "from sklearn.datasets import make_regression\n",
    "from sklearn.pipeline import make_pipeline\n",
    "from sklearn.model_selection import GridSearchCV\n",
    "from sklearn import preprocessing\n",
    "from sklearn.metrics import r2_score\n",
    "from sklearn.metrics import make_scorer"
   ]
  },
  {
   "cell_type": "code",
   "execution_count": 338,
   "metadata": {
    "collapsed": true
   },
   "outputs": [],
   "source": [
    "from sklearn import metrics\n",
    "from sklearn.metrics import mean_squared_error\n",
    "from sklearn.metrics import mean_absolute_error"
   ]
  },
  {
   "cell_type": "code",
   "execution_count": 339,
   "metadata": {
    "collapsed": true
   },
   "outputs": [],
   "source": [
    "import math"
   ]
  },
  {
   "cell_type": "code",
   "execution_count": 340,
   "metadata": {},
   "outputs": [
    {
     "data": {
      "text/html": [
       "<div>\n",
       "<style>\n",
       "    .dataframe thead tr:only-child th {\n",
       "        text-align: right;\n",
       "    }\n",
       "\n",
       "    .dataframe thead th {\n",
       "        text-align: left;\n",
       "    }\n",
       "\n",
       "    .dataframe tbody tr th {\n",
       "        vertical-align: top;\n",
       "    }\n",
       "</style>\n",
       "<table border=\"1\" class=\"dataframe\">\n",
       "  <thead>\n",
       "    <tr style=\"text-align: right;\">\n",
       "      <th></th>\n",
       "      <th>ZONEID</th>\n",
       "      <th>TIMESTAMP</th>\n",
       "      <th>Hour</th>\n",
       "      <th>VAR78</th>\n",
       "      <th>VAR79</th>\n",
       "      <th>VAR134</th>\n",
       "      <th>VAR157</th>\n",
       "      <th>VAR164</th>\n",
       "      <th>VAR165</th>\n",
       "      <th>VAR166</th>\n",
       "      <th>VAR167</th>\n",
       "      <th>VAR169</th>\n",
       "      <th>VAR175</th>\n",
       "      <th>VAR178</th>\n",
       "      <th>VAR228</th>\n",
       "    </tr>\n",
       "  </thead>\n",
       "  <tbody>\n",
       "    <tr>\n",
       "      <th>0</th>\n",
       "      <td>1</td>\n",
       "      <td>20120401 01:00</td>\n",
       "      <td>1</td>\n",
       "      <td>0.001967</td>\n",
       "      <td>0.003609</td>\n",
       "      <td>94843.6250</td>\n",
       "      <td>60.221909</td>\n",
       "      <td>0.244601</td>\n",
       "      <td>1.039334</td>\n",
       "      <td>-2.503039</td>\n",
       "      <td>294.448486</td>\n",
       "      <td>2577830.0</td>\n",
       "      <td>1202532.0</td>\n",
       "      <td>2861797.0</td>\n",
       "      <td>0.000000</td>\n",
       "    </tr>\n",
       "    <tr>\n",
       "      <th>1</th>\n",
       "      <td>1</td>\n",
       "      <td>20120401 02:00</td>\n",
       "      <td>2</td>\n",
       "      <td>0.005524</td>\n",
       "      <td>0.033575</td>\n",
       "      <td>94757.9375</td>\n",
       "      <td>54.678604</td>\n",
       "      <td>0.457138</td>\n",
       "      <td>2.482865</td>\n",
       "      <td>-2.993330</td>\n",
       "      <td>295.651367</td>\n",
       "      <td>5356093.0</td>\n",
       "      <td>2446757.0</td>\n",
       "      <td>5949378.0</td>\n",
       "      <td>0.000000</td>\n",
       "    </tr>\n",
       "    <tr>\n",
       "      <th>2</th>\n",
       "      <td>1</td>\n",
       "      <td>20120401 03:00</td>\n",
       "      <td>3</td>\n",
       "      <td>0.030113</td>\n",
       "      <td>0.132009</td>\n",
       "      <td>94732.8125</td>\n",
       "      <td>61.294891</td>\n",
       "      <td>0.771429</td>\n",
       "      <td>3.339867</td>\n",
       "      <td>-1.982535</td>\n",
       "      <td>294.454590</td>\n",
       "      <td>7921788.0</td>\n",
       "      <td>3681336.0</td>\n",
       "      <td>8939176.0</td>\n",
       "      <td>0.001341</td>\n",
       "    </tr>\n",
       "    <tr>\n",
       "      <th>3</th>\n",
       "      <td>1</td>\n",
       "      <td>20120401 04:00</td>\n",
       "      <td>4</td>\n",
       "      <td>0.057167</td>\n",
       "      <td>0.110645</td>\n",
       "      <td>94704.0625</td>\n",
       "      <td>67.775284</td>\n",
       "      <td>0.965866</td>\n",
       "      <td>3.106102</td>\n",
       "      <td>-1.446051</td>\n",
       "      <td>293.261475</td>\n",
       "      <td>9860520.0</td>\n",
       "      <td>4921504.0</td>\n",
       "      <td>11331679.0</td>\n",
       "      <td>0.002501</td>\n",
       "    </tr>\n",
       "    <tr>\n",
       "      <th>4</th>\n",
       "      <td>1</td>\n",
       "      <td>20120401 05:00</td>\n",
       "      <td>5</td>\n",
       "      <td>0.051027</td>\n",
       "      <td>0.189560</td>\n",
       "      <td>94675.0000</td>\n",
       "      <td>70.172989</td>\n",
       "      <td>0.944669</td>\n",
       "      <td>2.601146</td>\n",
       "      <td>-1.904493</td>\n",
       "      <td>292.732910</td>\n",
       "      <td>11143097.0</td>\n",
       "      <td>6254380.0</td>\n",
       "      <td>13105558.0</td>\n",
       "      <td>0.003331</td>\n",
       "    </tr>\n",
       "  </tbody>\n",
       "</table>\n",
       "</div>"
      ],
      "text/plain": [
       "   ZONEID       TIMESTAMP  Hour     VAR78     VAR79      VAR134     VAR157  \\\n",
       "0       1  20120401 01:00     1  0.001967  0.003609  94843.6250  60.221909   \n",
       "1       1  20120401 02:00     2  0.005524  0.033575  94757.9375  54.678604   \n",
       "2       1  20120401 03:00     3  0.030113  0.132009  94732.8125  61.294891   \n",
       "3       1  20120401 04:00     4  0.057167  0.110645  94704.0625  67.775284   \n",
       "4       1  20120401 05:00     5  0.051027  0.189560  94675.0000  70.172989   \n",
       "\n",
       "     VAR164    VAR165    VAR166      VAR167      VAR169     VAR175  \\\n",
       "0  0.244601  1.039334 -2.503039  294.448486   2577830.0  1202532.0   \n",
       "1  0.457138  2.482865 -2.993330  295.651367   5356093.0  2446757.0   \n",
       "2  0.771429  3.339867 -1.982535  294.454590   7921788.0  3681336.0   \n",
       "3  0.965866  3.106102 -1.446051  293.261475   9860520.0  4921504.0   \n",
       "4  0.944669  2.601146 -1.904493  292.732910  11143097.0  6254380.0   \n",
       "\n",
       "       VAR178    VAR228  \n",
       "0   2861797.0  0.000000  \n",
       "1   5949378.0  0.000000  \n",
       "2   8939176.0  0.001341  \n",
       "3  11331679.0  0.002501  \n",
       "4  13105558.0  0.003331  "
      ]
     },
     "execution_count": 340,
     "metadata": {},
     "output_type": "execute_result"
    }
   ],
   "source": [
    "train=pd.read_csv(\"/Users/saikrishna/Downloads/Solar/Task 1/predictors1_H.csv\")\n",
    "train.head()"
   ]
  },
  {
   "cell_type": "code",
   "execution_count": 341,
   "metadata": {},
   "outputs": [
    {
     "data": {
      "text/plain": [
       "(26280, 15)"
      ]
     },
     "execution_count": 341,
     "metadata": {},
     "output_type": "execute_result"
    }
   ],
   "source": [
    "train.shape"
   ]
  },
  {
   "cell_type": "code",
   "execution_count": 342,
   "metadata": {},
   "outputs": [
    {
     "data": {
      "text/html": [
       "<div>\n",
       "<style>\n",
       "    .dataframe thead tr:only-child th {\n",
       "        text-align: right;\n",
       "    }\n",
       "\n",
       "    .dataframe thead th {\n",
       "        text-align: left;\n",
       "    }\n",
       "\n",
       "    .dataframe tbody tr th {\n",
       "        vertical-align: top;\n",
       "    }\n",
       "</style>\n",
       "<table border=\"1\" class=\"dataframe\">\n",
       "  <thead>\n",
       "    <tr style=\"text-align: right;\">\n",
       "      <th></th>\n",
       "      <th>Hour</th>\n",
       "      <th>VAR78</th>\n",
       "      <th>VAR79</th>\n",
       "      <th>VAR134</th>\n",
       "      <th>VAR157</th>\n",
       "      <th>VAR164</th>\n",
       "      <th>VAR165</th>\n",
       "      <th>VAR166</th>\n",
       "      <th>VAR167</th>\n",
       "      <th>VAR169</th>\n",
       "      <th>VAR175</th>\n",
       "      <th>VAR178</th>\n",
       "      <th>VAR228</th>\n",
       "    </tr>\n",
       "  </thead>\n",
       "  <tbody>\n",
       "    <tr>\n",
       "      <th>0</th>\n",
       "      <td>1</td>\n",
       "      <td>0.001967</td>\n",
       "      <td>0.003609</td>\n",
       "      <td>94843.6250</td>\n",
       "      <td>60.221909</td>\n",
       "      <td>0.244601</td>\n",
       "      <td>1.039334</td>\n",
       "      <td>-2.503039</td>\n",
       "      <td>294.448486</td>\n",
       "      <td>2577830.0</td>\n",
       "      <td>1202532.0</td>\n",
       "      <td>2861797.0</td>\n",
       "      <td>0.000000</td>\n",
       "    </tr>\n",
       "    <tr>\n",
       "      <th>1</th>\n",
       "      <td>2</td>\n",
       "      <td>0.005524</td>\n",
       "      <td>0.033575</td>\n",
       "      <td>94757.9375</td>\n",
       "      <td>54.678604</td>\n",
       "      <td>0.457138</td>\n",
       "      <td>2.482865</td>\n",
       "      <td>-2.993330</td>\n",
       "      <td>295.651367</td>\n",
       "      <td>5356093.0</td>\n",
       "      <td>2446757.0</td>\n",
       "      <td>5949378.0</td>\n",
       "      <td>0.000000</td>\n",
       "    </tr>\n",
       "    <tr>\n",
       "      <th>2</th>\n",
       "      <td>3</td>\n",
       "      <td>0.030113</td>\n",
       "      <td>0.132009</td>\n",
       "      <td>94732.8125</td>\n",
       "      <td>61.294891</td>\n",
       "      <td>0.771429</td>\n",
       "      <td>3.339867</td>\n",
       "      <td>-1.982535</td>\n",
       "      <td>294.454590</td>\n",
       "      <td>7921788.0</td>\n",
       "      <td>3681336.0</td>\n",
       "      <td>8939176.0</td>\n",
       "      <td>0.001341</td>\n",
       "    </tr>\n",
       "    <tr>\n",
       "      <th>3</th>\n",
       "      <td>4</td>\n",
       "      <td>0.057167</td>\n",
       "      <td>0.110645</td>\n",
       "      <td>94704.0625</td>\n",
       "      <td>67.775284</td>\n",
       "      <td>0.965866</td>\n",
       "      <td>3.106102</td>\n",
       "      <td>-1.446051</td>\n",
       "      <td>293.261475</td>\n",
       "      <td>9860520.0</td>\n",
       "      <td>4921504.0</td>\n",
       "      <td>11331679.0</td>\n",
       "      <td>0.002501</td>\n",
       "    </tr>\n",
       "    <tr>\n",
       "      <th>4</th>\n",
       "      <td>5</td>\n",
       "      <td>0.051027</td>\n",
       "      <td>0.189560</td>\n",
       "      <td>94675.0000</td>\n",
       "      <td>70.172989</td>\n",
       "      <td>0.944669</td>\n",
       "      <td>2.601146</td>\n",
       "      <td>-1.904493</td>\n",
       "      <td>292.732910</td>\n",
       "      <td>11143097.0</td>\n",
       "      <td>6254380.0</td>\n",
       "      <td>13105558.0</td>\n",
       "      <td>0.003331</td>\n",
       "    </tr>\n",
       "  </tbody>\n",
       "</table>\n",
       "</div>"
      ],
      "text/plain": [
       "   Hour     VAR78     VAR79      VAR134     VAR157    VAR164    VAR165  \\\n",
       "0     1  0.001967  0.003609  94843.6250  60.221909  0.244601  1.039334   \n",
       "1     2  0.005524  0.033575  94757.9375  54.678604  0.457138  2.482865   \n",
       "2     3  0.030113  0.132009  94732.8125  61.294891  0.771429  3.339867   \n",
       "3     4  0.057167  0.110645  94704.0625  67.775284  0.965866  3.106102   \n",
       "4     5  0.051027  0.189560  94675.0000  70.172989  0.944669  2.601146   \n",
       "\n",
       "     VAR166      VAR167      VAR169     VAR175      VAR178    VAR228  \n",
       "0 -2.503039  294.448486   2577830.0  1202532.0   2861797.0  0.000000  \n",
       "1 -2.993330  295.651367   5356093.0  2446757.0   5949378.0  0.000000  \n",
       "2 -1.982535  294.454590   7921788.0  3681336.0   8939176.0  0.001341  \n",
       "3 -1.446051  293.261475   9860520.0  4921504.0  11331679.0  0.002501  \n",
       "4 -1.904493  292.732910  11143097.0  6254380.0  13105558.0  0.003331  "
      ]
     },
     "execution_count": 342,
     "metadata": {},
     "output_type": "execute_result"
    }
   ],
   "source": [
    "X_train=train.drop(['ZONEID','TIMESTAMP'], axis=1)\n",
    "X_train.head()"
   ]
  },
  {
   "cell_type": "code",
   "execution_count": 343,
   "metadata": {},
   "outputs": [
    {
     "data": {
      "text/plain": [
       "(26280, 13)"
      ]
     },
     "execution_count": 343,
     "metadata": {},
     "output_type": "execute_result"
    }
   ],
   "source": [
    "X_train.shape"
   ]
  },
  {
   "cell_type": "code",
   "execution_count": 344,
   "metadata": {
    "collapsed": true
   },
   "outputs": [],
   "source": [
    "train2=pd.read_csv(\"/Users/saikrishna/Downloads/Solar/Task 1/train1.csv\")\n",
    "Y_train=train2.drop(['ZONEID','TIMESTAMP'],axis=1)"
   ]
  },
  {
   "cell_type": "code",
   "execution_count": 345,
   "metadata": {},
   "outputs": [
    {
     "data": {
      "text/html": [
       "<div>\n",
       "<style>\n",
       "    .dataframe thead tr:only-child th {\n",
       "        text-align: right;\n",
       "    }\n",
       "\n",
       "    .dataframe thead th {\n",
       "        text-align: left;\n",
       "    }\n",
       "\n",
       "    .dataframe tbody tr th {\n",
       "        vertical-align: top;\n",
       "    }\n",
       "</style>\n",
       "<table border=\"1\" class=\"dataframe\">\n",
       "  <thead>\n",
       "    <tr style=\"text-align: right;\">\n",
       "      <th></th>\n",
       "      <th>POWER</th>\n",
       "    </tr>\n",
       "  </thead>\n",
       "  <tbody>\n",
       "    <tr>\n",
       "      <th>0</th>\n",
       "      <td>0.754103</td>\n",
       "    </tr>\n",
       "    <tr>\n",
       "      <th>1</th>\n",
       "      <td>0.555000</td>\n",
       "    </tr>\n",
       "    <tr>\n",
       "      <th>2</th>\n",
       "      <td>0.438397</td>\n",
       "    </tr>\n",
       "    <tr>\n",
       "      <th>3</th>\n",
       "      <td>0.145449</td>\n",
       "    </tr>\n",
       "    <tr>\n",
       "      <th>4</th>\n",
       "      <td>0.111987</td>\n",
       "    </tr>\n",
       "  </tbody>\n",
       "</table>\n",
       "</div>"
      ],
      "text/plain": [
       "      POWER\n",
       "0  0.754103\n",
       "1  0.555000\n",
       "2  0.438397\n",
       "3  0.145449\n",
       "4  0.111987"
      ]
     },
     "execution_count": 345,
     "metadata": {},
     "output_type": "execute_result"
    }
   ],
   "source": [
    "Y_train.head()"
   ]
  },
  {
   "cell_type": "code",
   "execution_count": 346,
   "metadata": {},
   "outputs": [],
   "source": [
    "scoring = make_scorer(r2_score)"
   ]
  },
  {
   "cell_type": "code",
   "execution_count": 347,
   "metadata": {},
   "outputs": [],
   "source": [
    "# pipeline = make_pipeline(preprocessing.StandardScaler(), DecisionTreeRegressor(min_samples_split=9)\n",
    "# hyperparameters = { 'DecisionTreeRegressor__max_features' : ['auto', 'sqrt', 'log2'],'DecisionTreeRegressor__max_depth': [None, 5, 3, 1]}\n",
    "# clf = GridSearchCV(pipeline, hyperparameters, cv=10)\n",
    "g_cv = GridSearchCV(DecisionTreeRegressor(random_state=0),\n",
    "              param_grid={'min_samples_split': range(2, 10)},\n",
    "              scoring=scoring, cv=5, refit=True)"
   ]
  },
  {
   "cell_type": "code",
   "execution_count": 348,
   "metadata": {},
   "outputs": [
    {
     "data": {
      "text/plain": [
       "GridSearchCV(cv=5, error_score='raise',\n",
       "       estimator=DecisionTreeRegressor(criterion='mse', max_depth=None, max_features=None,\n",
       "           max_leaf_nodes=None, min_impurity_decrease=0.0,\n",
       "           min_impurity_split=None, min_samples_leaf=1,\n",
       "           min_samples_split=2, min_weight_fraction_leaf=0.0,\n",
       "           presort=False, random_state=0, splitter='best'),\n",
       "       fit_params=None, iid=True, n_jobs=1,\n",
       "       param_grid={'min_samples_split': range(2, 10)},\n",
       "       pre_dispatch='2*n_jobs', refit=True, return_train_score='warn',\n",
       "       scoring=make_scorer(r2_score), verbose=0)"
      ]
     },
     "execution_count": 348,
     "metadata": {},
     "output_type": "execute_result"
    }
   ],
   "source": [
    "g_cv.fit(X_train, Y_train)"
   ]
  },
  {
   "cell_type": "code",
   "execution_count": 320,
   "metadata": {},
   "outputs": [
    {
     "data": {
      "text/plain": [
       "{'min_samples_split': 9}"
      ]
     },
     "execution_count": 320,
     "metadata": {},
     "output_type": "execute_result"
    }
   ],
   "source": [
    "g_cv.best_params_"
   ]
  },
  {
   "cell_type": "code",
   "execution_count": null,
   "metadata": {
    "collapsed": true
   },
   "outputs": [],
   "source": []
  },
  {
   "cell_type": "code",
   "execution_count": 297,
   "metadata": {
    "collapsed": true
   },
   "outputs": [],
   "source": [
    "reg = DecisionTreeRegressor(max_depth=5)"
   ]
  },
  {
   "cell_type": "code",
   "execution_count": 298,
   "metadata": {},
   "outputs": [
    {
     "data": {
      "text/plain": [
       "DecisionTreeRegressor(criterion='mse', max_depth=5, max_features=None,\n",
       "           max_leaf_nodes=None, min_impurity_decrease=0.0,\n",
       "           min_impurity_split=None, min_samples_leaf=1,\n",
       "           min_samples_split=2, min_weight_fraction_leaf=0.0,\n",
       "           presort=False, random_state=None, splitter='best')"
      ]
     },
     "execution_count": 298,
     "metadata": {},
     "output_type": "execute_result"
    }
   ],
   "source": [
    "reg.fit(X_train, Y_train)"
   ]
  },
  {
   "cell_type": "code",
   "execution_count": null,
   "metadata": {
    "collapsed": true
   },
   "outputs": [],
   "source": []
  },
  {
   "cell_type": "code",
   "execution_count": 299,
   "metadata": {},
   "outputs": [],
   "source": [
    "reg = linear_model.Ridge(alpha=0.1)"
   ]
  },
  {
   "cell_type": "code",
   "execution_count": 300,
   "metadata": {},
   "outputs": [
    {
     "data": {
      "text/plain": [
       "Ridge(alpha=0.1, copy_X=True, fit_intercept=True, max_iter=None,\n",
       "   normalize=False, random_state=None, solver='auto', tol=0.001)"
      ]
     },
     "execution_count": 300,
     "metadata": {},
     "output_type": "execute_result"
    }
   ],
   "source": [
    "reg.fit(X_train,Y_train)"
   ]
  },
  {
   "cell_type": "code",
   "execution_count": 349,
   "metadata": {},
   "outputs": [
    {
     "data": {
      "text/html": [
       "<div>\n",
       "<style>\n",
       "    .dataframe thead tr:only-child th {\n",
       "        text-align: right;\n",
       "    }\n",
       "\n",
       "    .dataframe thead th {\n",
       "        text-align: left;\n",
       "    }\n",
       "\n",
       "    .dataframe tbody tr th {\n",
       "        vertical-align: top;\n",
       "    }\n",
       "</style>\n",
       "<table border=\"1\" class=\"dataframe\">\n",
       "  <thead>\n",
       "    <tr style=\"text-align: right;\">\n",
       "      <th></th>\n",
       "      <th>Hour</th>\n",
       "      <th>VAR78</th>\n",
       "      <th>VAR79</th>\n",
       "      <th>VAR134</th>\n",
       "      <th>VAR157</th>\n",
       "      <th>VAR164</th>\n",
       "      <th>VAR165</th>\n",
       "      <th>VAR166</th>\n",
       "      <th>VAR167</th>\n",
       "      <th>VAR169</th>\n",
       "      <th>VAR175</th>\n",
       "      <th>VAR178</th>\n",
       "      <th>VAR228</th>\n",
       "    </tr>\n",
       "  </thead>\n",
       "  <tbody>\n",
       "    <tr>\n",
       "      <th>0</th>\n",
       "      <td>1</td>\n",
       "      <td>0.000763</td>\n",
       "      <td>0.0</td>\n",
       "      <td>94776.6875</td>\n",
       "      <td>48.756729</td>\n",
       "      <td>0.021912</td>\n",
       "      <td>3.282763</td>\n",
       "      <td>-1.563320</td>\n",
       "      <td>291.282471</td>\n",
       "      <td>2650028.0</td>\n",
       "      <td>1095673.0</td>\n",
       "      <td>2849846</td>\n",
       "      <td>0.0</td>\n",
       "    </tr>\n",
       "    <tr>\n",
       "      <th>1</th>\n",
       "      <td>2</td>\n",
       "      <td>0.000584</td>\n",
       "      <td>0.0</td>\n",
       "      <td>94713.4375</td>\n",
       "      <td>43.934814</td>\n",
       "      <td>0.012665</td>\n",
       "      <td>3.968341</td>\n",
       "      <td>-1.725616</td>\n",
       "      <td>292.723389</td>\n",
       "      <td>5591490.0</td>\n",
       "      <td>2206098.0</td>\n",
       "      <td>5985933</td>\n",
       "      <td>0.0</td>\n",
       "    </tr>\n",
       "    <tr>\n",
       "      <th>2</th>\n",
       "      <td>3</td>\n",
       "      <td>0.003244</td>\n",
       "      <td>0.0</td>\n",
       "      <td>94651.1875</td>\n",
       "      <td>41.285858</td>\n",
       "      <td>0.072473</td>\n",
       "      <td>4.458328</td>\n",
       "      <td>-1.365808</td>\n",
       "      <td>293.037598</td>\n",
       "      <td>8527615.0</td>\n",
       "      <td>3315076.0</td>\n",
       "      <td>9138981</td>\n",
       "      <td>0.0</td>\n",
       "    </tr>\n",
       "    <tr>\n",
       "      <th>3</th>\n",
       "      <td>4</td>\n",
       "      <td>0.001301</td>\n",
       "      <td>0.0</td>\n",
       "      <td>94599.4375</td>\n",
       "      <td>40.435791</td>\n",
       "      <td>0.051194</td>\n",
       "      <td>4.532656</td>\n",
       "      <td>-0.913233</td>\n",
       "      <td>293.414795</td>\n",
       "      <td>11273198.0</td>\n",
       "      <td>4428271.0</td>\n",
       "      <td>12095657</td>\n",
       "      <td>0.0</td>\n",
       "    </tr>\n",
       "    <tr>\n",
       "      <th>4</th>\n",
       "      <td>5</td>\n",
       "      <td>0.000977</td>\n",
       "      <td>0.0</td>\n",
       "      <td>94569.8125</td>\n",
       "      <td>40.117920</td>\n",
       "      <td>0.055176</td>\n",
       "      <td>4.413027</td>\n",
       "      <td>-0.757091</td>\n",
       "      <td>293.176269</td>\n",
       "      <td>13472754.0</td>\n",
       "      <td>5578156.0</td>\n",
       "      <td>14526557</td>\n",
       "      <td>0.0</td>\n",
       "    </tr>\n",
       "  </tbody>\n",
       "</table>\n",
       "</div>"
      ],
      "text/plain": [
       "   Hour     VAR78  VAR79      VAR134     VAR157    VAR164    VAR165    VAR166  \\\n",
       "0     1  0.000763    0.0  94776.6875  48.756729  0.021912  3.282763 -1.563320   \n",
       "1     2  0.000584    0.0  94713.4375  43.934814  0.012665  3.968341 -1.725616   \n",
       "2     3  0.003244    0.0  94651.1875  41.285858  0.072473  4.458328 -1.365808   \n",
       "3     4  0.001301    0.0  94599.4375  40.435791  0.051194  4.532656 -0.913233   \n",
       "4     5  0.000977    0.0  94569.8125  40.117920  0.055176  4.413027 -0.757091   \n",
       "\n",
       "       VAR167      VAR169     VAR175    VAR178  VAR228  \n",
       "0  291.282471   2650028.0  1095673.0   2849846     0.0  \n",
       "1  292.723389   5591490.0  2206098.0   5985933     0.0  \n",
       "2  293.037598   8527615.0  3315076.0   9138981     0.0  \n",
       "3  293.414795  11273198.0  4428271.0  12095657     0.0  \n",
       "4  293.176269  13472754.0  5578156.0  14526557     0.0  "
      ]
     },
     "execution_count": 349,
     "metadata": {},
     "output_type": "execute_result"
    }
   ],
   "source": [
    "test=pd.read_csv(\"/Users/saikrishna/Downloads/Solar/Task 1/April2013Inputs.csv\")\n",
    "test.head()\n",
    "X_test=test.drop(['ZONEID','TIMESTAMP'], axis=1)\n",
    "X_test.head()"
   ]
  },
  {
   "cell_type": "code",
   "execution_count": 350,
   "metadata": {},
   "outputs": [
    {
     "data": {
      "text/html": [
       "<div>\n",
       "<style>\n",
       "    .dataframe thead tr:only-child th {\n",
       "        text-align: right;\n",
       "    }\n",
       "\n",
       "    .dataframe thead th {\n",
       "        text-align: left;\n",
       "    }\n",
       "\n",
       "    .dataframe tbody tr th {\n",
       "        vertical-align: top;\n",
       "    }\n",
       "</style>\n",
       "<table border=\"1\" class=\"dataframe\">\n",
       "  <thead>\n",
       "    <tr style=\"text-align: right;\">\n",
       "      <th></th>\n",
       "      <th>Power</th>\n",
       "    </tr>\n",
       "  </thead>\n",
       "  <tbody>\n",
       "    <tr>\n",
       "      <th>0</th>\n",
       "      <td>0.813846</td>\n",
       "    </tr>\n",
       "    <tr>\n",
       "      <th>1</th>\n",
       "      <td>0.761795</td>\n",
       "    </tr>\n",
       "    <tr>\n",
       "      <th>2</th>\n",
       "      <td>0.736538</td>\n",
       "    </tr>\n",
       "    <tr>\n",
       "      <th>3</th>\n",
       "      <td>0.643590</td>\n",
       "    </tr>\n",
       "    <tr>\n",
       "      <th>4</th>\n",
       "      <td>0.470769</td>\n",
       "    </tr>\n",
       "  </tbody>\n",
       "</table>\n",
       "</div>"
      ],
      "text/plain": [
       "      Power\n",
       "0  0.813846\n",
       "1  0.761795\n",
       "2  0.736538\n",
       "3  0.643590\n",
       "4  0.470769"
      ]
     },
     "execution_count": 350,
     "metadata": {},
     "output_type": "execute_result"
    }
   ],
   "source": [
    "test2=pd.read_csv(\"/Users/saikrishna/Downloads/Solar/Task 1/April2013outputs.csv\")\n",
    "test2.head()\n",
    "Y_test=test2.drop(['ZONEID','Timestamp'],axis=1)\n",
    "Y_test.head()"
   ]
  },
  {
   "cell_type": "code",
   "execution_count": 351,
   "metadata": {},
   "outputs": [
    {
     "data": {
      "text/plain": [
       "(2160, 13)"
      ]
     },
     "execution_count": 351,
     "metadata": {},
     "output_type": "execute_result"
    }
   ],
   "source": [
    "X_test.shape"
   ]
  },
  {
   "cell_type": "code",
   "execution_count": 352,
   "metadata": {},
   "outputs": [
    {
     "data": {
      "text/plain": [
       "(2160, 1)"
      ]
     },
     "execution_count": 352,
     "metadata": {},
     "output_type": "execute_result"
    }
   ],
   "source": [
    "Y_test.shape"
   ]
  },
  {
   "cell_type": "code",
   "execution_count": 353,
   "metadata": {},
   "outputs": [],
   "source": [
    "mse = mean_squared_error(Y_test, g_cv.best_estimator_.predict(X_test))"
   ]
  },
  {
   "cell_type": "code",
   "execution_count": 354,
   "metadata": {},
   "outputs": [
    {
     "data": {
      "text/plain": [
       "0.11912899064029588"
      ]
     },
     "execution_count": 354,
     "metadata": {},
     "output_type": "execute_result"
    }
   ],
   "source": [
    "rmse=math.sqrt(mse)\n",
    "rmse"
   ]
  },
  {
   "cell_type": "code",
   "execution_count": null,
   "metadata": {
    "collapsed": true
   },
   "outputs": [],
   "source": []
  },
  {
   "cell_type": "code",
   "execution_count": 355,
   "metadata": {},
   "outputs": [
    {
     "data": {
      "text/plain": [
       "0.058201619967404458"
      ]
     },
     "execution_count": 355,
     "metadata": {},
     "output_type": "execute_result"
    }
   ],
   "source": [
    "mean_absolute_error(Y_test, g_cv.best_estimator_.predict(X_test))"
   ]
  },
  {
   "cell_type": "code",
   "execution_count": null,
   "metadata": {
    "collapsed": true
   },
   "outputs": [],
   "source": []
  },
  {
   "cell_type": "code",
   "execution_count": null,
   "metadata": {
    "collapsed": true
   },
   "outputs": [],
   "source": []
  },
  {
   "cell_type": "code",
   "execution_count": 305,
   "metadata": {
    "collapsed": true
   },
   "outputs": [],
   "source": [
    "mse = mean_squared_error(Y_test, reg.predict(X_test))"
   ]
  },
  {
   "cell_type": "code",
   "execution_count": 306,
   "metadata": {},
   "outputs": [
    {
     "data": {
      "text/plain": [
       "0.033818885957162266"
      ]
     },
     "execution_count": 306,
     "metadata": {},
     "output_type": "execute_result"
    }
   ],
   "source": [
    "mse"
   ]
  },
  {
   "cell_type": "code",
   "execution_count": 307,
   "metadata": {},
   "outputs": [
    {
     "data": {
      "text/plain": [
       "0.18389911896787942"
      ]
     },
     "execution_count": 307,
     "metadata": {},
     "output_type": "execute_result"
    }
   ],
   "source": [
    "rmse=math.sqrt(mse)\n",
    "rmse"
   ]
  },
  {
   "cell_type": "code",
   "execution_count": 296,
   "metadata": {},
   "outputs": [
    {
     "data": {
      "text/plain": [
       "0.15155609682904289"
      ]
     },
     "execution_count": 296,
     "metadata": {},
     "output_type": "execute_result"
    }
   ],
   "source": [
    "mean_absolute_error(Y_test, reg.predict(X_test))"
   ]
  },
  {
   "cell_type": "code",
   "execution_count": null,
   "metadata": {
    "collapsed": true
   },
   "outputs": [],
   "source": []
  },
  {
   "cell_type": "code",
   "execution_count": 257,
   "metadata": {
    "collapsed": true
   },
   "outputs": [],
   "source": [
    "mse = mean_squared_error(Y_test, reg.predict(X_test))"
   ]
  },
  {
   "cell_type": "code",
   "execution_count": 258,
   "metadata": {},
   "outputs": [
    {
     "data": {
      "text/plain": [
       "0.1838991189678796"
      ]
     },
     "execution_count": 258,
     "metadata": {},
     "output_type": "execute_result"
    }
   ],
   "source": [
    "rmse=math.sqrt(mse)\n",
    "rmse"
   ]
  },
  {
   "cell_type": "code",
   "execution_count": 259,
   "metadata": {},
   "outputs": [
    {
     "data": {
      "text/plain": [
       "0.15155609682904309"
      ]
     },
     "execution_count": 259,
     "metadata": {},
     "output_type": "execute_result"
    }
   ],
   "source": [
    "mean_absolute_error(Y_test, reg.predict(X_test))"
   ]
  },
  {
   "cell_type": "code",
   "execution_count": null,
   "metadata": {
    "collapsed": true
   },
   "outputs": [],
   "source": []
  },
  {
   "cell_type": "code",
   "execution_count": null,
   "metadata": {
    "collapsed": true
   },
   "outputs": [],
   "source": []
  }
 ],
 "metadata": {
  "kernelspec": {
   "display_name": "Python 3",
   "language": "python",
   "name": "python3"
  },
  "language_info": {
   "codemirror_mode": {
    "name": "ipython",
    "version": 3
   },
   "file_extension": ".py",
   "mimetype": "text/x-python",
   "name": "python",
   "nbconvert_exporter": "python",
   "pygments_lexer": "ipython3",
   "version": "3.6.3"
  }
 },
 "nbformat": 4,
 "nbformat_minor": 2
}
